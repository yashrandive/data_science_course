{
 "cells": [
  {
   "cell_type": "markdown",
   "metadata": {},
   "source": [
    "## Importing the Libraries"
   ]
  },
  {
   "cell_type": "code",
   "execution_count": 9,
   "metadata": {},
   "outputs": [],
   "source": [
    "import numpy as np\n",
    "import matplotlib.pyplot as plt\n",
    "\n",
    "from mpl_toolkits.mplot3d import Axes3D"
   ]
  },
  {
   "cell_type": "markdown",
   "metadata": {},
   "source": [
    "## Generating Random Data"
   ]
  },
  {
   "cell_type": "code",
   "execution_count": 10,
   "metadata": {},
   "outputs": [
    {
     "name": "stdout",
     "output_type": "stream",
     "text": [
      "(1000, 2)\n"
     ]
    }
   ],
   "source": [
    "observations = 1000\n",
    "\n",
    "xs = np.random.uniform(low =-10, high = 10, size = (observations,1))\n",
    "zs = np.random.uniform(low = -10, high = 10, size = (observations,1))\n",
    "\n",
    "inputs = np.column_stack((xs,zs))\n",
    "\n",
    "print(inputs.shape)"
   ]
  },
  {
   "cell_type": "code",
   "execution_count": 11,
   "metadata": {},
   "outputs": [],
   "source": [
    "noise = np.random.uniform(-1,1,size = (observations,1))\n",
    "targets = 2*xs - 3*zs +5 + noise"
   ]
  },
  {
   "cell_type": "markdown",
   "metadata": {},
   "source": [
    "## Initialize Variables"
   ]
  },
  {
   "cell_type": "code",
   "execution_count": 17,
   "metadata": {},
   "outputs": [],
   "source": [
    "init_range = 0.1\n",
    "\n",
    "weights = np.random.uniform(-init_range, init_range, size = (2,1))\n",
    "biases = np.random.uniform(-init_range, init_range, size = 1 )\n",
    "\n",
    "learning_rate = 0.01"
   ]
  },
  {
   "cell_type": "code",
   "execution_count": 18,
   "metadata": {},
   "outputs": [
    {
     "name": "stdout",
     "output_type": "stream",
     "text": [
      "210.17918338397251\n",
      "101.95055379642616\n",
      "52.93259021361258\n",
      "30.636323024322788\n",
      "20.413793241710874\n",
      "15.653839226827133\n",
      "13.369390312728173\n",
      "12.20934039302007\n",
      "11.56186996164265\n",
      "11.149601345047133\n",
      "10.846618036247335\n",
      "10.595672254290141\n",
      "10.370683482549294\n",
      "10.159733336158654\n",
      "9.957346090351791\n",
      "9.760980583620162\n",
      "9.569434219477436\n",
      "9.38211607261703\n",
      "9.198715459888634\n",
      "9.019050653732092\n",
      "8.842999743035854\n",
      "8.670468994607996\n",
      "8.501378352107066\n",
      "8.335654774989827\n",
      "8.173229167945937\n",
      "8.014034956483357\n",
      "7.858007418134119\n",
      "7.7050833609921385\n",
      "7.555200962204\n",
      "7.408299680331202\n",
      "7.264320201998042\n",
      "7.12320440460153\n",
      "6.984895326683609\n",
      "6.849337142088173\n",
      "6.7164751361087305\n",
      "6.586255682793329\n",
      "6.4586262230169265\n",
      "6.333535243136242\n",
      "6.2109322541369725\n",
      "6.0907677712272354\n",
      "5.972993293851469\n",
      "5.857561286108636\n",
      "5.744425157563013\n",
      "5.633539244438161\n",
      "5.5248587911855775\n",
      "5.418339932420251\n",
      "5.313939675215698\n",
      "5.211615881751155\n",
      "5.111327252303991\n",
      "5.013033308580364\n",
      "4.916694377377455\n",
      "4.822271574570659\n",
      "4.72972678941923\n",
      "4.63902266918411\n",
      "4.5501226040517055\n",
      "4.462990712357484\n",
      "4.377591826103505\n",
      "4.29389147676398\n",
      "4.211855881373156\n",
      "4.1314519288899\n",
      "4.052647166833492\n",
      "3.9754097881852166\n",
      "3.899708618550484\n",
      "3.825513103576275\n",
      "3.7527932966188637\n",
      "3.6815198466568098\n",
      "3.611663986444357\n",
      "3.5431975209004594\n",
      "3.4760928157287343\n",
      "3.410322786263773\n",
      "3.3458608865392745\n",
      "3.2826810985736072\n",
      "3.220757921868516\n",
      "3.1600663631166266\n",
      "3.1005819261137173\n",
      "3.042280601871604\n",
      "2.9851388589276873\n",
      "2.9291336338472194\n",
      "2.874242321914503\n",
      "2.820442768009205\n",
      "2.767713257664166\n",
      "2.7160325083010424\n",
      "2.6653796606402764\n",
      "2.6157342702819166\n",
      "2.567076299453894\n",
      "2.519386108924412\n",
      "2.4726444500751987\n",
      "2.4268324571324236\n",
      "2.381931639552133\n",
      "2.337923874557122\n",
      "2.294791399822271\n",
      "2.2525168063053447\n",
      "2.211083031220388\n",
      "2.170473351150881\n",
      "2.1306713752998716\n",
      "2.0916610388743475\n",
      "2.053426596601202\n",
      "2.015952616372154\n",
      "1.9792239730150791\n",
      "1.9432258421892148\n"
     ]
    }
   ],
   "source": [
    "for i in range(100):\n",
    "    outputs = np.dot(inputs,weights) + biases\n",
    "    deltas = outputs-targets\n",
    "    \n",
    "    loss = np.sum(deltas**2)/2/observations\n",
    "    print(loss)\n",
    "    \n",
    "    deltas_scaled = deltas/observations\n",
    "    \n",
    "    weights = weights - learning_rate*np.dot(inputs.T, deltas_scaled)\n",
    "    biases = biases - learning_rate*np.sum(deltas_scaled)"
   ]
  },
  {
   "cell_type": "code",
   "execution_count": null,
   "metadata": {},
   "outputs": [],
   "source": []
  }
 ],
 "metadata": {
  "kernelspec": {
   "display_name": "Python 3",
   "language": "python",
   "name": "python3"
  },
  "language_info": {
   "codemirror_mode": {
    "name": "ipython",
    "version": 3
   },
   "file_extension": ".py",
   "mimetype": "text/x-python",
   "name": "python",
   "nbconvert_exporter": "python",
   "pygments_lexer": "ipython3",
   "version": "3.7.4"
  }
 },
 "nbformat": 4,
 "nbformat_minor": 4
}
