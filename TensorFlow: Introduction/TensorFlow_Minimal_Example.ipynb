{
 "cells": [
  {
   "cell_type": "markdown",
   "metadata": {},
   "source": [
    "## Importing the Libraries"
   ]
  },
  {
   "cell_type": "code",
   "execution_count": 1,
   "metadata": {},
   "outputs": [],
   "source": [
    "import matplotlib.pyplot as plt\n",
    "import numpy as np\n",
    "import tensorflow as tf"
   ]
  },
  {
   "cell_type": "markdown",
   "metadata": {},
   "source": [
    "## Data Generation"
   ]
  },
  {
   "cell_type": "code",
   "execution_count": 2,
   "metadata": {},
   "outputs": [],
   "source": [
    "observations = 1000\n",
    "\n",
    "xs = np.random.uniform(low = -10, high = 10, size = (observations,1))\n",
    "zs = np.random.uniform(low = -10, high = 10,  size =(observations, 1))\n",
    "\n",
    "generated_inputs  = np.column_stack((xs,zs))\n",
    "\n",
    "noise = np.random.uniform(-1,1,(observations,1))\n",
    "\n",
    "generated_targets = 2*xs - 3*zs + 5 + noise\n",
    "\n",
    "np.savez('TF_Intro', inputs = generated_inputs, targets = generated_targets)"
   ]
  },
  {
   "cell_type": "markdown",
   "metadata": {},
   "source": [
    "## Solving with TensorFlow"
   ]
  },
  {
   "cell_type": "code",
   "execution_count": 3,
   "metadata": {},
   "outputs": [],
   "source": [
    "# Loading Training Data\n",
    "training_data = np.load('TF_Intro.npz')"
   ]
  },
  {
   "cell_type": "code",
   "execution_count": 4,
   "metadata": {},
   "outputs": [
    {
     "name": "stdout",
     "output_type": "stream",
     "text": [
      "Train on 1000 samples\n",
      "Epoch 1/100\n",
      "1000/1000 - 1s - loss: 28.7482\n",
      "Epoch 2/100\n",
      "1000/1000 - 0s - loss: 4.4002\n",
      "Epoch 3/100\n",
      "1000/1000 - 0s - loss: 1.4324\n",
      "Epoch 4/100\n",
      "1000/1000 - 0s - loss: 0.6346\n",
      "Epoch 5/100\n",
      "1000/1000 - 0s - loss: 0.4149\n",
      "Epoch 6/100\n",
      "1000/1000 - 0s - loss: 0.3569\n",
      "Epoch 7/100\n",
      "1000/1000 - 0s - loss: 0.3419\n",
      "Epoch 8/100\n",
      "1000/1000 - 0s - loss: 0.3352\n",
      "Epoch 9/100\n",
      "1000/1000 - 0s - loss: 0.3369\n",
      "Epoch 10/100\n",
      "1000/1000 - 0s - loss: 0.3424\n",
      "Epoch 11/100\n",
      "1000/1000 - 0s - loss: 0.3356\n",
      "Epoch 12/100\n",
      "1000/1000 - 0s - loss: 0.3422\n",
      "Epoch 13/100\n",
      "1000/1000 - 0s - loss: 0.3409\n",
      "Epoch 14/100\n",
      "1000/1000 - 0s - loss: 0.3382\n",
      "Epoch 15/100\n",
      "1000/1000 - 0s - loss: 0.3305\n",
      "Epoch 16/100\n",
      "1000/1000 - 0s - loss: 0.3434\n",
      "Epoch 17/100\n",
      "1000/1000 - 0s - loss: 0.3346\n",
      "Epoch 18/100\n",
      "1000/1000 - 0s - loss: 0.3306\n",
      "Epoch 19/100\n",
      "1000/1000 - 0s - loss: 0.3337\n",
      "Epoch 20/100\n",
      "1000/1000 - 0s - loss: 0.3353\n",
      "Epoch 21/100\n",
      "1000/1000 - 0s - loss: 0.3335\n",
      "Epoch 22/100\n",
      "1000/1000 - 0s - loss: 0.3398\n",
      "Epoch 23/100\n",
      "1000/1000 - 0s - loss: 0.3319\n",
      "Epoch 24/100\n",
      "1000/1000 - 0s - loss: 0.3375\n",
      "Epoch 25/100\n",
      "1000/1000 - 0s - loss: 0.3361\n",
      "Epoch 26/100\n",
      "1000/1000 - 0s - loss: 0.3409\n",
      "Epoch 27/100\n",
      "1000/1000 - 0s - loss: 0.3356\n",
      "Epoch 28/100\n",
      "1000/1000 - 0s - loss: 0.3327\n",
      "Epoch 29/100\n",
      "1000/1000 - 0s - loss: 0.3361\n",
      "Epoch 30/100\n",
      "1000/1000 - 0s - loss: 0.3402\n",
      "Epoch 31/100\n",
      "1000/1000 - 0s - loss: 0.3386\n",
      "Epoch 32/100\n",
      "1000/1000 - 0s - loss: 0.3342\n",
      "Epoch 33/100\n",
      "1000/1000 - 0s - loss: 0.3401\n",
      "Epoch 34/100\n",
      "1000/1000 - 0s - loss: 0.3361\n",
      "Epoch 35/100\n",
      "1000/1000 - 0s - loss: 0.3373\n",
      "Epoch 36/100\n",
      "1000/1000 - 0s - loss: 0.3428\n",
      "Epoch 37/100\n",
      "1000/1000 - 0s - loss: 0.3407\n",
      "Epoch 38/100\n",
      "1000/1000 - 0s - loss: 0.3353\n",
      "Epoch 39/100\n",
      "1000/1000 - 0s - loss: 0.3392\n",
      "Epoch 40/100\n",
      "1000/1000 - 0s - loss: 0.3345\n",
      "Epoch 41/100\n",
      "1000/1000 - 0s - loss: 0.3336\n",
      "Epoch 42/100\n",
      "1000/1000 - 0s - loss: 0.3399\n",
      "Epoch 43/100\n",
      "1000/1000 - 0s - loss: 0.3371\n",
      "Epoch 44/100\n",
      "1000/1000 - 0s - loss: 0.3362\n",
      "Epoch 45/100\n",
      "1000/1000 - 0s - loss: 0.3422\n",
      "Epoch 46/100\n",
      "1000/1000 - 0s - loss: 0.3377\n",
      "Epoch 47/100\n",
      "1000/1000 - 0s - loss: 0.3335\n",
      "Epoch 48/100\n",
      "1000/1000 - 0s - loss: 0.3355\n",
      "Epoch 49/100\n",
      "1000/1000 - 0s - loss: 0.3322\n",
      "Epoch 50/100\n",
      "1000/1000 - 0s - loss: 0.3312\n",
      "Epoch 51/100\n",
      "1000/1000 - 0s - loss: 0.3360\n",
      "Epoch 52/100\n",
      "1000/1000 - 0s - loss: 0.3356\n",
      "Epoch 53/100\n",
      "1000/1000 - 0s - loss: 0.3365\n",
      "Epoch 54/100\n",
      "1000/1000 - 0s - loss: 0.3306\n",
      "Epoch 55/100\n",
      "1000/1000 - 0s - loss: 0.3380\n",
      "Epoch 56/100\n",
      "1000/1000 - 0s - loss: 0.3388\n",
      "Epoch 57/100\n",
      "1000/1000 - 0s - loss: 0.3331\n",
      "Epoch 58/100\n",
      "1000/1000 - 0s - loss: 0.3400\n",
      "Epoch 59/100\n",
      "1000/1000 - 0s - loss: 0.3332\n",
      "Epoch 60/100\n",
      "1000/1000 - 0s - loss: 0.3387\n",
      "Epoch 61/100\n",
      "1000/1000 - 0s - loss: 0.3381\n",
      "Epoch 62/100\n",
      "1000/1000 - 0s - loss: 0.3374\n",
      "Epoch 63/100\n",
      "1000/1000 - 0s - loss: 0.3458\n",
      "Epoch 64/100\n",
      "1000/1000 - 0s - loss: 0.3409\n",
      "Epoch 65/100\n",
      "1000/1000 - 0s - loss: 0.3332\n",
      "Epoch 66/100\n",
      "1000/1000 - 0s - loss: 0.3374\n",
      "Epoch 67/100\n",
      "1000/1000 - 0s - loss: 0.3336\n",
      "Epoch 68/100\n",
      "1000/1000 - 0s - loss: 0.3370\n",
      "Epoch 69/100\n",
      "1000/1000 - 0s - loss: 0.3373\n",
      "Epoch 70/100\n",
      "1000/1000 - 0s - loss: 0.3375\n",
      "Epoch 71/100\n",
      "1000/1000 - 0s - loss: 0.3308\n",
      "Epoch 72/100\n",
      "1000/1000 - 0s - loss: 0.3306\n",
      "Epoch 73/100\n",
      "1000/1000 - 0s - loss: 0.3372\n",
      "Epoch 74/100\n",
      "1000/1000 - 0s - loss: 0.3298\n",
      "Epoch 75/100\n",
      "1000/1000 - 0s - loss: 0.3470\n",
      "Epoch 76/100\n",
      "1000/1000 - 0s - loss: 0.3419\n",
      "Epoch 77/100\n",
      "1000/1000 - 0s - loss: 0.3359\n",
      "Epoch 78/100\n",
      "1000/1000 - 0s - loss: 0.3364\n",
      "Epoch 79/100\n",
      "1000/1000 - 0s - loss: 0.3374\n",
      "Epoch 80/100\n",
      "1000/1000 - 0s - loss: 0.3364\n",
      "Epoch 81/100\n",
      "1000/1000 - 0s - loss: 0.3356\n",
      "Epoch 82/100\n",
      "1000/1000 - 0s - loss: 0.3386\n",
      "Epoch 83/100\n",
      "1000/1000 - 0s - loss: 0.3374\n",
      "Epoch 84/100\n",
      "1000/1000 - 0s - loss: 0.3444\n",
      "Epoch 85/100\n",
      "1000/1000 - 0s - loss: 0.3363\n",
      "Epoch 86/100\n",
      "1000/1000 - 0s - loss: 0.3350\n",
      "Epoch 87/100\n",
      "1000/1000 - 0s - loss: 0.3339\n",
      "Epoch 88/100\n",
      "1000/1000 - 0s - loss: 0.3327\n",
      "Epoch 89/100\n",
      "1000/1000 - 0s - loss: 0.3369\n",
      "Epoch 90/100\n",
      "1000/1000 - 0s - loss: 0.3298\n",
      "Epoch 91/100\n",
      "1000/1000 - 0s - loss: 0.3381\n",
      "Epoch 92/100\n",
      "1000/1000 - 0s - loss: 0.3325\n",
      "Epoch 93/100\n",
      "1000/1000 - 0s - loss: 0.3363\n",
      "Epoch 94/100\n",
      "1000/1000 - 0s - loss: 0.3382\n",
      "Epoch 95/100\n",
      "1000/1000 - 0s - loss: 0.3432\n",
      "Epoch 96/100\n",
      "1000/1000 - 0s - loss: 0.3347\n",
      "Epoch 97/100\n",
      "1000/1000 - 0s - loss: 0.3377\n",
      "Epoch 98/100\n",
      "1000/1000 - 0s - loss: 0.3376\n",
      "Epoch 99/100\n",
      "1000/1000 - 0s - loss: 0.3362\n",
      "Epoch 100/100\n",
      "1000/1000 - 0s - loss: 0.3335\n"
     ]
    },
    {
     "data": {
      "text/plain": [
       "<tensorflow.python.keras.callbacks.History at 0x648e51950>"
      ]
     },
     "execution_count": 4,
     "metadata": {},
     "output_type": "execute_result"
    }
   ],
   "source": [
    "input_size = 2\n",
    "output_size = 1\n",
    "\n",
    "model = tf.keras.Sequential([\n",
    "    \n",
    "    \n",
    "    tf.keras.layers.Dense(output_size)\n",
    "    \n",
    "    \n",
    "])\n",
    "model.compile(optimizer ='sgd', loss = 'mean_squared_error')\n",
    "model.fit(training_data['inputs'], training_data['targets'], epochs = 100, verbose = 2)"
   ]
  },
  {
   "cell_type": "code",
   "execution_count": 5,
   "metadata": {},
   "outputs": [
    {
     "data": {
      "text/plain": [
       "[array([[ 2.0125403],\n",
       "        [-3.022169 ]], dtype=float32),\n",
       " array([4.995106], dtype=float32)]"
      ]
     },
     "execution_count": 5,
     "metadata": {},
     "output_type": "execute_result"
    }
   ],
   "source": [
    "weights = model.layers[0].get_weights()\n",
    "weights"
   ]
  },
  {
   "cell_type": "code",
   "execution_count": 6,
   "metadata": {},
   "outputs": [
    {
     "data": {
      "text/plain": [
       "array([4.995106], dtype=float32)"
      ]
     },
     "execution_count": 6,
     "metadata": {},
     "output_type": "execute_result"
    }
   ],
   "source": [
    "bias = model.layers[0].get_weights()[1]\n",
    "bias"
   ]
  },
  {
   "cell_type": "code",
   "execution_count": 7,
   "metadata": {},
   "outputs": [],
   "source": [
    "pred = model.predict_on_batch(training_data['inputs'])"
   ]
  },
  {
   "cell_type": "markdown",
   "metadata": {},
   "source": [
    "## Plotting the Data"
   ]
  },
  {
   "cell_type": "code",
   "execution_count": null,
   "metadata": {},
   "outputs": [],
   "source": [
    "plt.plot(np.squeeze(model.predict_on_batch(training_data['inputs'])), np.squeeze(training_data['targets']))\n",
    "plt.xlabel('outputs')\n",
    "plt.ylabel('targets')\n",
    "plt.show"
   ]
  },
  {
   "cell_type": "code",
   "execution_count": null,
   "metadata": {},
   "outputs": [],
   "source": []
  }
 ],
 "metadata": {
  "kernelspec": {
   "display_name": "Python 3",
   "language": "python",
   "name": "python3"
  },
  "language_info": {
   "codemirror_mode": {
    "name": "ipython",
    "version": 3
   },
   "file_extension": ".py",
   "mimetype": "text/x-python",
   "name": "python",
   "nbconvert_exporter": "python",
   "pygments_lexer": "ipython3",
   "version": "3.7.4"
  }
 },
 "nbformat": 4,
 "nbformat_minor": 4
}
